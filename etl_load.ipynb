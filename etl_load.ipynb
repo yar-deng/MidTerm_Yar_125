{
 "cells": [
  {
   "cell_type": "code",
   "execution_count": 1,
   "id": "8b2f6fb4",
   "metadata": {},
   "outputs": [
    {
     "name": "stdout",
     "output_type": "stream",
     "text": [
      "Full Data Preview from SQLite:\n",
      "   order_id customer_name product  quantity  unit_price  order_date   region  \\\n",
      "0         1         Diana  Tablet       2.0       500.0  2024-01-20    South   \n",
      "1         2           Eve  Laptop       2.0       750.0  2024-04-29    North   \n",
      "2         3       Charlie  Laptop       2.0       250.0  2024-01-08  Unknown   \n",
      "3         4           Eve  Laptop       2.0       750.0  2024-01-07     West   \n",
      "4         5           Eve  Tablet       3.0       750.0  2024-03-07    South   \n",
      "\n",
      "   total_price  order_year  \n",
      "0       1000.0        2024  \n",
      "1       1500.0        2024  \n",
      "2        500.0        2024  \n",
      "3       1500.0        2024  \n",
      "4       2250.0        2024  \n",
      "\n",
      "Incremental Data Preview from SQLite:\n",
      "   order_id customer_name product  quantity  unit_price  order_date   region  \\\n",
      "0       101         Alice  Laptop       1.5       900.0  2024-05-09  Central   \n",
      "1       102       Unknown  Laptop       1.0       300.0  2024-05-07  Central   \n",
      "2       103       Unknown  Laptop       1.0       600.0  2024-05-04  Central   \n",
      "3       104       Unknown  Tablet       1.5       300.0  2024-05-26  Central   \n",
      "4       105         Heidi  Tablet       2.0       600.0  2024-05-21    North   \n",
      "\n",
      "   total_price  order_year  \n",
      "0       1350.0        2024  \n",
      "1        300.0        2024  \n",
      "2        600.0        2024  \n",
      "3        450.0        2024  \n",
      "4       1200.0        2024  \n",
      "\n",
      "Transformed data successfully loaded into SQLite databases in loaded/ directory.\n"
     ]
    }
   ],
   "source": [
    "# etl_load.py\n",
    "# This script loads the transformed data (transformed_full.csv and transformed_incremental.csv)\n",
    "# into SQLite databases (full_data.db and incremental_data.db) and verifies the stored data.\n",
    "\n",
    "import pandas as pd\n",
    "import sqlite3\n",
    "import os\n",
    "\n",
    "# Create loaded directory if it doesn't exist\n",
    "os.makedirs('loaded', exist_ok=True)\n",
    "\n",
    "# Load transformed data\n",
    "full_data = pd.read_csv('data/transformed/transformed_full.csv')\n",
    "incremental_data = pd.read_csv('data/transformed/transformed_incremental.csv')\n",
    "\n",
    "# Connect to SQLite database for full_data\n",
    "conn_full = sqlite3.connect('loaded/full_data.db')\n",
    "\n",
    "# Load full_data into SQLite\n",
    "full_data.to_sql('full_data', conn_full, if_exists='replace', index=False)\n",
    "\n",
    "# Verify loaded data\n",
    "print('Full Data Preview from SQLite:')\n",
    "query_full = 'SELECT * FROM full_data LIMIT 5'\n",
    "full_data_preview = pd.read_sql(query_full, conn_full)\n",
    "print(full_data_preview)\n",
    "\n",
    "# Close connection\n",
    "conn_full.close()\n",
    "\n",
    "# Connect to SQLite database for incremental_data\n",
    "conn_incremental = sqlite3.connect('loaded/incremental_data.db')\n",
    "\n",
    "# Load incremental_data into SQLite\n",
    "incremental_data.to_sql('incremental_data', conn_incremental, if_exists='replace', index=False)\n",
    "\n",
    "# Verify loaded data\n",
    "print('\\nIncremental Data Preview from SQLite:')\n",
    "query_incremental = 'SELECT * FROM incremental_data LIMIT 5'\n",
    "incremental_data_preview = pd.read_sql(query_incremental, conn_incremental)\n",
    "print(incremental_data_preview)\n",
    "\n",
    "# Close connection\n",
    "conn_incremental.close()\n",
    "\n",
    "print('\\nTransformed data successfully loaded into SQLite databases in loaded/ directory.')"
   ]
  }
 ],
 "metadata": {
  "kernelspec": {
   "display_name": "base",
   "language": "python",
   "name": "python3"
  },
  "language_info": {
   "codemirror_mode": {
    "name": "ipython",
    "version": 3
   },
   "file_extension": ".py",
   "mimetype": "text/x-python",
   "name": "python",
   "nbconvert_exporter": "python",
   "pygments_lexer": "ipython3",
   "version": "3.11.4"
  }
 },
 "nbformat": 4,
 "nbformat_minor": 5
}
